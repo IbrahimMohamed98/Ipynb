{
  "metadata": {
    "kernelspec": {
      "name": "python",
      "display_name": "Python (Pyodide)",
      "language": "python"
    },
    "language_info": {
      "codemirror_mode": {
        "name": "python",
        "version": 3
      },
      "file_extension": ".py",
      "mimetype": "text/x-python",
      "name": "python",
      "nbconvert_exporter": "python",
      "pygments_lexer": "ipython3",
      "version": "3.8"
    }
  },
  "nbformat_minor": 4,
  "nbformat": 4,
  "cells": [
    {
      "cell_type": "markdown",
      "source": "<h1>Data Science Tools and Ecosystem<h1>",
      "metadata": {}
    },
    {
      "cell_type": "markdown",
      "source": "<h2>In this notebook, Data Science Tools and Ecosystem are summarized.<h2>",
      "metadata": {}
    },
    {
      "cell_type": "markdown",
      "source": "<h3>Some of the popular languages that Data Scientists use are:</h3> \n\n>>>>>>>>>>><ol>\n        <li>Python</li>\n                                                                <li>R</li>\n                                                                <li>C++</li>\n                                                                <li>Java</li>\n                                                                </ol>",
      "metadata": {}
    },
    {
      "cell_type": "markdown",
      "source": "<h3>Some of the commonly used libraries used by Data Scientists include:</h3>\n\n<ol><li>NumPy</li><li>Pandas</li><li>MatplotLib</li><li>Pytorch</li></ol>",
      "metadata": {}
    },
    {
      "cell_type": "markdown",
      "source": "|Data Science Tools|\n|:------------------:|\n|Jupyter Notebook|\n|Apache Spark|\n|RStudio|",
      "metadata": {}
    },
    {
      "cell_type": "markdown",
      "source": "<h3>Below are a few examples of evaluating arithmetic expressions in Python</h3>",
      "metadata": {}
    },
    {
      "cell_type": "code",
      "source": "(3*4)+5",
      "metadata": {
        "trusted": true
      },
      "outputs": [
        {
          "execution_count": 1,
          "output_type": "execute_result",
          "data": {
            "text/plain": "17"
          },
          "metadata": {}
        }
      ],
      "execution_count": 1
    },
    {
      "cell_type": "code",
      "source": "#to convert from mins to hours (mins/60)\n200/60",
      "metadata": {
        "trusted": true
      },
      "outputs": [
        {
          "execution_count": 2,
          "output_type": "execute_result",
          "data": {
            "text/plain": "3.3333333333333335"
          },
          "metadata": {}
        }
      ],
      "execution_count": 2
    },
    {
      "cell_type": "markdown",
      "source": "**Objectives:** \n- Applications of data science\n- How to analyse data and find patterns\n- How to apply data science techniques",
      "metadata": {}
    },
    {
      "cell_type": "markdown",
      "source": "<h2>Author: Ibraim Bashar</h2>",
      "metadata": {}
    },
    {
      "cell_type": "code",
      "source": "",
      "metadata": {
        "trusted": true
      },
      "outputs": [],
      "execution_count": null
    }
  ]
}